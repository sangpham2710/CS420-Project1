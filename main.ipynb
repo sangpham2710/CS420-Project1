{
 "cells": [
  {
   "cell_type": "markdown",
   "metadata": {},
   "source": [
    "# Project 1"
   ]
  },
  {
   "cell_type": "code",
   "execution_count": 224,
   "metadata": {},
   "outputs": [],
   "source": [
    "from random import *\n",
    "from time import *\n",
    "from math import *\n",
    "from copy import *\n",
    "from collections import *\n",
    "from enum import *"
   ]
  },
  {
   "cell_type": "markdown",
   "metadata": {},
   "source": [
    "### PriorityQueue class"
   ]
  },
  {
   "cell_type": "code",
   "execution_count": 225,
   "metadata": {},
   "outputs": [],
   "source": [
    "import heapq\n",
    "class PriorityQueue:\n",
    "    def __init__(self, items=(), key=lambda x: x): \n",
    "        self.key = key\n",
    "        self.items = []\n",
    "        for item in items:\n",
    "            self.add(item)\n",
    "    def __len__(self): return len(self.items)\n",
    "    def top(self): return self.items[0][1]\n",
    "    def add(self, item):\n",
    "        pair = (self.key(item), item)\n",
    "        heapq.heappush(self.items, pair)\n",
    "    def pop(self):\n",
    "        # Pop and return the item with min f(item) value.\n",
    "        return heapq.heappop(self.items)[1]\n"
   ]
  },
  {
   "cell_type": "code",
   "execution_count": 226,
   "metadata": {},
   "outputs": [
    {
     "name": "stdout",
     "output_type": "stream",
     "text": [
      "[[['-1', '0', '0', 'A1', '0'], ['A3', '0', '0', '-1', '0'], ['-1', '-1', '-1', '0', '0'], ['0', 'T1', '0', '0', '0'], ['-1', '0', '0', '0', '0']]]\n"
     ]
    }
   ],
   "source": [
    "def map_input(file_name):\n",
    "    grid = []\n",
    "    with open(file_name, 'r') as file:\n",
    "        n, m = map(int, file.readline().split(','))\n",
    "        floor = []\n",
    "        floorname = file.readline().strip()\n",
    "        for i in range(n):\n",
    "            floor.append(list(file.readline().strip().split(',')))\n",
    "        grid.append(floor)\n",
    "\n",
    "    return grid\n",
    "grid = map_input(\"test1.txt\")\n",
    "print(grid)\n"
   ]
  },
  {
   "cell_type": "markdown",
   "metadata": {},
   "source": [
    "#### PriorityQueue test"
   ]
  },
  {
   "cell_type": "code",
   "execution_count": 227,
   "metadata": {},
   "outputs": [
    {
     "name": "stdout",
     "output_type": "stream",
     "text": [
      "1\n",
      "2\n",
      "3\n",
      "4\n",
      "5\n",
      "\n",
      "5\n",
      "4\n",
      "3\n",
      "2\n",
      "1\n",
      "\n"
     ]
    }
   ],
   "source": [
    "pq = PriorityQueue([1,2,3,4,5])\n",
    "print(pq.pop())\n",
    "print(pq.pop())\n",
    "print(pq.pop())\n",
    "print(pq.pop())\n",
    "print(pq.pop())\n",
    "print()\n",
    "pq = PriorityQueue([1,2,3,4,5], key=lambda x: -x)\n",
    "print(pq.pop())\n",
    "print(pq.pop())\n",
    "print(pq.pop())\n",
    "print(pq.pop())\n",
    "print(pq.pop())\n",
    "print()"
   ]
  },
  {
   "cell_type": "markdown",
   "metadata": {},
   "source": [
    "## Level 1"
   ]
  },
  {
   "cell_type": "markdown",
   "metadata": {},
   "source": [
    "### GUI"
   ]
  },
  {
   "cell_type": "code",
   "execution_count": 229,
   "metadata": {},
   "outputs": [],
   "source": [
    "import tkinter as tk\n",
    "\n",
    "import tkinter.ttk as ttk"
   ]
  },
  {
   "cell_type": "code",
   "execution_count": 281,
   "metadata": {},
   "outputs": [],
   "source": [
    "class MapGUI:\n",
    "    WINDOW_WIDTH = 1366\n",
    "    WINDOW_HEIGHT = 768\n",
    "    PANEL_WIDTH = 200\n",
    "    COLOR_BLOCKED = \"#3f3f3f\"\n",
    "    COLOR_EMPTY = \"lightgray\"\n",
    "    COLOR_KEY = \"yellow\"\n",
    "    TCOLOR_START = \"black\"\n",
    "    COLOR_TARGET = \"green\"\n",
    "    TCOLOR_TARGET = \"black\"\n",
    "    COLOR_CURRENT = \"blue\"\n",
    "    COLOR_PATH = \"lightblue\"\n",
    "\n",
    "    def __init__(self, root, grid, path, starts, targets, floors, floor_indices):\n",
    "        self.rows = len(grid)\n",
    "        self.columns = len(grid[0])\n",
    "        self.floors = floors\n",
    "        self.floor_indices = floor_indices\n",
    "\n",
    "        self.CELL_SIZE = min(MapGUI.WINDOW_HEIGHT // self.rows,\n",
    "                             (MapGUI.WINDOW_WIDTH - MapGUI.PANEL_WIDTH) // self.columns,)\n",
    "\n",
    "        self.root = root\n",
    "        self.grid = grid\n",
    "        self.path = path\n",
    "        self.starts = starts\n",
    "        self.targets = targets\n",
    "\n",
    "        self.canvas = tk.Canvas(self.root, width=self.CELL_SIZE * self.columns, height=self.CELL_SIZE * self.rows)\n",
    "        self.canvas.pack(side=tk.LEFT)\n",
    "\n",
    "        # self.panel = tk.Frame(self.root, width=self.PANEL_WIDTH, height=self.WINDOW_HEIGHT)\n",
    "        # self.panel.pack(side=tk.RIGHT)\n",
    "\n",
    "        # self.current_position_var = tk.StringVar()\n",
    "        # self.current_point_var = tk.StringVar()\n",
    "        # self.current_floor_var = tk.StringVar()\n",
    "\n",
    "        # Labels to display information\n",
    "        # tk.Label(self.panel, text=\"Current Position:\").pack()\n",
    "        # tk.Label(self.panel, textvariable=self.current_position_var).pack()\n",
    "        # tk.Label(self.panel, text=\"Current Point:\").pack()\n",
    "        # tk.Label(self.panel, textvariable=self.current_point_var).pack()\n",
    "        # tk.Label(self.panel, text=\"Current Floor:\").pack()\n",
    "        # tk.Label(self.panel, textvariable=self.current_floor_var).pack()\n",
    "\n",
    "        self.setup()\n",
    "        self.draw_grid()\n",
    "        self.root.mainloop()\n",
    "\n",
    "    def setup(self):\n",
    "        self.root.title(\"CS420-Project1\")\n",
    "        self.root.geometry(str(MapGUI.WINDOW_WIDTH) + \"x\" + str(MapGUI.WINDOW_HEIGHT))\n",
    "        self.root.resizable(False, False)\n",
    "\n",
    "    def draw_grid(self):\n",
    "        # color grids\n",
    "        for row in range(self.rows):\n",
    "            for col in range(self.columns):\n",
    "                if self.grid[row][col] == '-1':\n",
    "                    self.draw_cell(row, col, background_fill=MapGUI.COLOR_BLOCKED)\n",
    "                elif self.grid[row][col] == '0':\n",
    "                    self.draw_cell(row, col, background_fill=MapGUI.COLOR_EMPTY)\n",
    "        \n",
    "        # color path\n",
    "        for cell in self.path:\n",
    "            self.draw_cell(cell[0], cell[1], background_fill=MapGUI.COLOR_PATH)\n",
    "\n",
    "        # color current position\n",
    "        if len(self.path) > 0:\n",
    "            self.draw_cell(self.path[-1][0], self.path[-1][1], background_fill=MapGUI.COLOR_CURRENT)\n",
    "\n",
    "        # color starts\n",
    "        for i, start in enumerate(self.starts):\n",
    "            self.draw_cell(start[0], start[1], text=\"A\" + str(i + 1), text_fill=MapGUI.TCOLOR_START)\n",
    "\n",
    "        # color targets, with the text is the index of the target in the list of targets (use enumerate)\n",
    "        for i, target in enumerate(self.targets):\n",
    "            self.draw_cell(target[0], target[1], text=\"T\" + str(i + 1), background_fill=MapGUI.COLOR_TARGET, text_fill=MapGUI.TCOLOR_TARGET)\n",
    "\n",
    "\n",
    "    def draw_cell(self, row, col, text=\"\", background_fill=None, text_fill=\"black\"):\n",
    "        x0 = col * self.CELL_SIZE\n",
    "        y0 = row * self.CELL_SIZE\n",
    "        x1 = x0 + self.CELL_SIZE\n",
    "        y1 = y0 + self.CELL_SIZE\n",
    "        self.canvas.create_rectangle(x0, y0, x1, y1, outline=\"black\", fill=background_fill)\n",
    "\n",
    "        # draw text in the center of the cell\n",
    "        x = (x0 + x1) / 2\n",
    "        y = (y0 + y1) / 2\n",
    "        self.canvas.create_text(x, y, text=text, font=(\"Arial\", int(self.CELL_SIZE / 2.5), 'bold'), fill=text_fill)\n",
    "    "
   ]
  },
  {
   "cell_type": "code",
   "execution_count": 282,
   "metadata": {},
   "outputs": [],
   "source": [
    "grid = map_input(\"test1.txt\")[0]"
   ]
  },
  {
   "cell_type": "code",
   "execution_count": 283,
   "metadata": {},
   "outputs": [
    {
     "data": {
      "text/plain": [
       "[(0, 3)]"
      ]
     },
     "execution_count": 283,
     "metadata": {},
     "output_type": "execute_result"
    }
   ],
   "source": [
    "starts = []\n",
    "for i in range(len(grid)):\n",
    "    for j in range(len(grid[0])):\n",
    "        if grid[i][j].startswith(\"A\"):\n",
    "            starts.append((i, j))\n",
    "starts"
   ]
  },
  {
   "cell_type": "code",
   "execution_count": 284,
   "metadata": {},
   "outputs": [
    {
     "data": {
      "text/plain": [
       "[(3, 1)]"
      ]
     },
     "execution_count": 284,
     "metadata": {},
     "output_type": "execute_result"
    }
   ],
   "source": [
    "targets = []\n",
    "for i in range(len(grid)):\n",
    "    for j in range(len(grid[0])):\n",
    "        if grid[i][j].startswith(\"T\"):\n",
    "            targets.append((i, j))\n",
    "targets"
   ]
  },
  {
   "cell_type": "code",
   "execution_count": 285,
   "metadata": {},
   "outputs": [
    {
     "name": "stdout",
     "output_type": "stream",
     "text": [
      "[['-1', '0', '0', 'A1', '0'], ['0', '0', '0', '-1', '0'], ['-1', '-1', '-1', '0', '0'], ['0', 'T1', '0', '0', '0'], ['-1', '0', '0', '0', '0']]\n"
     ]
    }
   ],
   "source": [
    "print(grid)\n",
    "bfs = BFS(grid)\n",
    "bfs.process()\n",
    "path = bfs.get_path()\n",
    "gui = MapGUI(tk.Tk(), grid, path, starts, targets, 1, 1)"
   ]
  },
  {
   "cell_type": "markdown",
   "metadata": {},
   "source": [
    "### BFS"
   ]
  },
  {
   "cell_type": "code",
   "execution_count": 234,
   "metadata": {},
   "outputs": [
    {
     "name": "stdout",
     "output_type": "stream",
     "text": [
      "[(0, 3), (0, 4), (1, 4), (2, 4), (3, 3), (3, 2), (3, 1)]\n"
     ]
    }
   ],
   "source": [
    "from collections import deque\n",
    "\n",
    "class BFS:\n",
    "    def __init__(self, grid):\n",
    "        self.grid = grid\n",
    "        self.n = len(grid)\n",
    "        self.m = len(grid[0])\n",
    "        self.explored = [[False] * self.m for _ in range(self.n)]\n",
    "        self.directions = [(0, 1), (0, -1), (1, 0), (-1, 0)]\n",
    "        self.diagonals = [(1, 1), (1, -1), (-1, 1), (-1, -1)]\n",
    "        self.path = [[(-1, -1)] * self.m for _ in range(self.n)]\n",
    "        for i in range(self.n):\n",
    "            for j in range(self.m):\n",
    "                if grid[i][j] == \"A1\":\n",
    "                    self.start = (i, j)\n",
    "                elif grid[i][j] == \"T1\":\n",
    "                    self.target = (i, j)\n",
    "\n",
    "    def is_valid(self, x, y):\n",
    "        return 0 <= x < self.n and 0 <= y < self.m and self.grid[x][y] != '-1'\n",
    "\n",
    "    def process(self):\n",
    "        queue = deque([(self.start[0], self.start[1])])\n",
    "        self.explored[self.start[0]][self.start[1]] = True\n",
    "\n",
    "        while queue:\n",
    "            x, y = queue.popleft()\n",
    "\n",
    "            if (x, y) == self.target:\n",
    "                return True\n",
    "\n",
    "            for dx, dy in self.directions:\n",
    "                nx, ny = x + dx, y + dy\n",
    "\n",
    "                if self.is_valid(nx, ny) and not self.explored[nx][ny]:\n",
    "                    queue.append((nx, ny))\n",
    "                    self.explored[nx][ny] = True\n",
    "                    self.path[nx][ny] = (x, y)\n",
    "                    \n",
    "            for dx, dy in self.diagonals:\n",
    "                nx, ny = x + dx, y + dy\n",
    "\n",
    "                if self.is_valid(nx, ny) and not self.explored[nx][ny] and self.is_valid(x + dx, y) and self.is_valid(x, y + dy):\n",
    "                    queue.append((nx, ny))\n",
    "                    self.explored[nx][ny] = True\n",
    "                    self.path[nx][ny] = (x, y)\n",
    "        return False\n",
    "    \n",
    "    def get_path(self):\n",
    "        path = []\n",
    "        x, y = self.target\n",
    "        while (x, y) != (-1, -1):\n",
    "            path.append((x, y))\n",
    "            x, y = self.path[x][y]\n",
    "        return path[::-1]\n",
    "\n",
    "# Example usage:\n",
    "grid = map_input(\"test1.txt\")\n",
    "bfs = BFS(grid[0])\n",
    "bfs.process()\n",
    "path = bfs.get_path()\n",
    "print(path)\n"
   ]
  },
  {
   "cell_type": "markdown",
   "metadata": {},
   "source": [
    "### DFS"
   ]
  },
  {
   "cell_type": "code",
   "execution_count": 235,
   "metadata": {},
   "outputs": [
    {
     "name": "stdout",
     "output_type": "stream",
     "text": [
      "[(0, 3), (0, 4), (1, 4), (2, 4), (3, 3), (4, 2), (3, 1)]\n"
     ]
    }
   ],
   "source": [
    "class DFS:\n",
    "    def __init__(self, grid):\n",
    "        self.grid = grid\n",
    "        self.n = len(grid)\n",
    "        self.m = len(grid[0])\n",
    "        self.explored = [[False] * self.m for _ in range(self.n)]\n",
    "        self.directions = [(0, 1), (0, -1), (1, 0), (-1, 0)]\n",
    "        self.diagonals = [(1, 1), (1, -1), (-1, 1), (-1, -1)]\n",
    "        self.path = [[(-1, -1)] * self.m for _ in range(self.n)]\n",
    "        for i in range(self.n):\n",
    "            for j in range(self.m):\n",
    "                if grid[i][j] == \"A1\":\n",
    "                    self.start = (i, j)\n",
    "                elif grid[i][j] == \"T1\":\n",
    "                    self.target = (i, j)\n",
    "                    \n",
    "    def is_valid(self, x, y):\n",
    "        return 0 <= x < self.n and 0 <= y < self.m and self.grid[x][y] != '-1'\n",
    "    \n",
    "    def process(self):\n",
    "        stack = [(self.start[0], self.start[1])]\n",
    "        self.explored[self.start[0]][self.start[1]] = True\n",
    "\n",
    "        while stack:\n",
    "            x, y = stack.pop()\n",
    "\n",
    "            if (x, y) == self.target:\n",
    "                return True\n",
    "\n",
    "            for dx, dy in self.directions:\n",
    "                nx, ny = x + dx, y + dy\n",
    "\n",
    "                if self.is_valid(nx, ny) and not self.explored[nx][ny]:\n",
    "                    stack.append((nx, ny))\n",
    "                    self.explored[nx][ny] = True\n",
    "                    self.path[nx][ny] = (x, y)\n",
    "                    \n",
    "            for dx, dy in self.diagonals:\n",
    "                nx, ny = x + dx, y + dy\n",
    "\n",
    "                if self.is_valid(nx, ny) and not self.explored[nx][ny] and self.is_valid(x + dx, y) and self.is_valid(x, y + dy):\n",
    "                    stack.append((nx, ny))\n",
    "                    self.explored[nx][ny] = True\n",
    "                    self.path[nx][ny] = (x, y)\n",
    "        return False\n",
    "    \n",
    "    def get_path(self):\n",
    "        path = []\n",
    "        x, y = self.target\n",
    "        while (x, y) != (-1, -1):\n",
    "            path.append((x, y))\n",
    "            x, y = self.path[x][y]\n",
    "        return path[::-1]\n",
    "\n",
    "# Example usage:\n",
    "grid = map_input(\"test1.txt\")\n",
    "dfs = DFS(grid[0])\n",
    "dfs.process()\n",
    "path = dfs.get_path()\n",
    "print(path)"
   ]
  },
  {
   "cell_type": "markdown",
   "metadata": {},
   "source": [
    "### UCS"
   ]
  },
  {
   "cell_type": "code",
   "execution_count": 236,
   "metadata": {},
   "outputs": [
    {
     "name": "stdout",
     "output_type": "stream",
     "text": [
      "[(0, 3), (0, 4), (1, 4), (2, 4), (3, 3), (3, 2), (3, 1)]\n"
     ]
    }
   ],
   "source": [
    "from queue import PriorityQueue\n",
    "\n",
    "class UCS:\n",
    "    def __init__(self, grid):\n",
    "        self.grid = grid\n",
    "        self.n = len(grid)\n",
    "        self.m = len(grid[0])\n",
    "        self.explored = [[False] * self.m for _ in range(self.n)]\n",
    "        self.directions = [(0, 1), (0, -1), (1, 0), (-1, 0)]\n",
    "        self.diagonals = [(1, 1), (1, -1), (-1, 1), (-1, -1)]\n",
    "        self.path = [[(-1, -1)] * self.m for _ in range(self.n)]\n",
    "        self.distance = [[float('inf')] * self.m for _ in range(self.n)]\n",
    "        for i in range(self.n):\n",
    "            for j in range(self.m):\n",
    "                if grid[i][j] == \"A1\":\n",
    "                    self.start = (i, j)\n",
    "                elif grid[i][j] == \"T1\":\n",
    "                    self.target = (i, j)\n",
    "\n",
    "    def is_valid(self, x, y):\n",
    "        return 0 <= x < self.n and 0 <= y < self.m and self.grid[x][y] != '-1'\n",
    "\n",
    "    def process(self):\n",
    "        queue = PriorityQueue()\n",
    "        queue.put((0, self.start[0], self.start[1]))\n",
    "        self.explored[self.start[0]][self.start[1]] = True\n",
    "        self.distance[self.start[0]][self.start[1]] = 0\n",
    "        while not queue.empty():\n",
    "            cost, x, y = queue.get()\n",
    "            cost = self.distance[x][y]\n",
    "            if (x, y) == self.target:\n",
    "                return True\n",
    "\n",
    "            for dx, dy in self.directions:\n",
    "                nx, ny = x + dx, y + dy\n",
    "\n",
    "                if self.is_valid(nx, ny) and not self.explored[nx][ny] and self.distance[nx][ny] > cost + 1:\n",
    "                    queue.put((cost + 1, nx, ny))\n",
    "                    self.distance[nx][ny] = cost + 1\n",
    "                    self.explored[nx][ny] = True\n",
    "                    self.path[nx][ny] = (x, y)\n",
    "                    \n",
    "            for dx, dy in self.diagonals:\n",
    "                nx, ny = x + dx, y + dy\n",
    "\n",
    "                if self.is_valid(nx, ny) and not self.explored[nx][ny] and self.is_valid(x + dx, y) and self.is_valid(x, y + dy) and self.distance[nx][ny] > cost + 1:\n",
    "                    queue.put((cost + 1, nx, ny))\n",
    "                    self.distance[nx][ny] = cost + 1\n",
    "                    self.explored[nx][ny] = True\n",
    "                    self.path[nx][ny] = (x, y)\n",
    "        return False\n",
    "    \n",
    "    def get_path(self):\n",
    "        path = []\n",
    "        x, y = self.target\n",
    "        while (x, y) != (-1, -1):\n",
    "            path.append((x, y))\n",
    "            x, y = self.path[x][y]\n",
    "        return path[::-1]\n",
    "\n",
    "# Example usage:\n",
    "grid = map_input(\"test1.txt\")\n",
    "ucs = UCS(grid[0])\n",
    "ucs.process()\n",
    "path = ucs.get_path()\n",
    "print(path)\n"
   ]
  },
  {
   "cell_type": "markdown",
   "metadata": {},
   "source": [
    "### A*"
   ]
  },
  {
   "cell_type": "code",
   "execution_count": 286,
   "metadata": {},
   "outputs": [
    {
     "name": "stdout",
     "output_type": "stream",
     "text": [
      "[(0, 3), (0, 4), (1, 4), (2, 4), (3, 3), (3, 2), (3, 1)]\n"
     ]
    }
   ],
   "source": [
    "from queue import PriorityQueue\n",
    "\n",
    "class AStar:\n",
    "    def __init__(self, grid):\n",
    "        self.grid = grid\n",
    "        self.n = len(grid)\n",
    "        self.m = len(grid[0])\n",
    "        self.explored = [[False] * self.m for _ in range(self.n)]\n",
    "        self.directions = [(0, 1), (0, -1), (1, 0), (-1, 0)]\n",
    "        self.diagonals = [(1, 1), (1, -1), (-1, 1), (-1, -1)]\n",
    "        self.path = [[(-1, -1)] * self.m for _ in range(self.n)]\n",
    "        self.distance = [[float('inf')] * self.m for _ in range(self.n)]\n",
    "        for i in range(self.n):\n",
    "            for j in range(self.m):\n",
    "                if grid[i][j] == \"A1\":\n",
    "                    self.start = (i, j)\n",
    "                elif grid[i][j] == \"T1\":\n",
    "                    self.target = (i, j)\n",
    "\n",
    "    def is_valid(self, x, y):\n",
    "        return 0 <= x < self.n and 0 <= y < self.m and self.grid[x][y] != '-1'\n",
    "\n",
    "    def heuristic(self, x, y):\n",
    "        return max(abs(x - self.target[0]), abs(y - self.target[1]))\n",
    "    \n",
    "    def process(self):\n",
    "        queue = PriorityQueue()\n",
    "        queue.put((0, self.start[0], self.start[1]))\n",
    "        self.explored[self.start[0]][self.start[1]] = True\n",
    "        self.distance[self.start[0]][self.start[1]] = 0\n",
    "        while not queue.empty():\n",
    "            cost, x, y = queue.get()\n",
    "            cost = self.distance[x][y] + self.heuristic(x, y)\n",
    "            true_cost = self.distance[x][y]\n",
    "            if (x, y) == self.target:\n",
    "                return True\n",
    "\n",
    "            for dx, dy in self.directions:\n",
    "                nx, ny = x + dx, y + dy\n",
    "\n",
    "                if self.is_valid(nx, ny) and not self.explored[nx][ny] and self.distance[nx][ny] > true_cost + 1:\n",
    "                    queue.put((cost + 1, nx, ny))\n",
    "                    self.distance[nx][ny] = true_cost + 1\n",
    "                    self.explored[nx][ny] = True\n",
    "                    self.path[nx][ny] = (x, y)\n",
    "                    \n",
    "            for dx, dy in self.diagonals:\n",
    "                nx, ny = x + dx, y + dy\n",
    "\n",
    "                if self.is_valid(nx, ny) and not self.explored[nx][ny] and self.is_valid(x + dx, y) and self.is_valid(x, y + dy) and self.distance[nx][ny] > true_cost + 1:\n",
    "                    queue.put((cost + 1, nx, ny))\n",
    "                    self.distance[nx][ny] = true_cost + 1\n",
    "                    self.explored[nx][ny] = True\n",
    "                    self.path[nx][ny] = (x, y)\n",
    "        return False\n",
    "    \n",
    "    def get_path(self):\n",
    "        path = []\n",
    "        x, y = self.target\n",
    "        while (x, y) != (-1, -1):\n",
    "            path.append((x, y))\n",
    "            x, y = self.path[x][y]\n",
    "        return path[::-1]\n",
    "\n",
    "# Example usage:\n",
    "grid = map_input(\"test1.txt\")\n",
    "a_star = AStar(grid[0])\n",
    "a_star.process()\n",
    "path = a_star.get_path()\n",
    "print(path)\n"
   ]
  },
  {
   "cell_type": "markdown",
   "metadata": {},
   "source": [
    "## Level 2"
   ]
  },
  {
   "cell_type": "code",
   "execution_count": 249,
   "metadata": {},
   "outputs": [],
   "source": [
    "class Level2Solver:\n",
    "    def __init__(self, grid):\n",
    "        self.grid = grid\n",
    "        self.n = len(grid)\n",
    "        self.m = len(grid[0])\n",
    "        self.keys = []\n",
    "        self.directions = [(0, 1), (0, -1), (1, 0), (-1, 0)]\n",
    "        self.diagonals = [(1, 1), (1, -1), (-1, 1), (-1, -1)]\n",
    "        for i in range(self.n):\n",
    "            for j in range(self.m):\n",
    "                if grid[i][j] == \"A1\":\n",
    "                    self.start = (i, j)\n",
    "                elif grid[i][j].startswith(\"K\"):\n",
    "                    self.keys.append((i, j))\n",
    "                elif grid[i][j] == \"T1\":\n",
    "                    self.target = (i, j)\n",
    "        self.keys.append(self.target)\n",
    "        self.distance = {}\n",
    "        self.path = {}\n",
    "                    \n",
    "    def is_valid(self, x, y):\n",
    "        return 0 <= x < self.n and 0 <= y < self.m and self.grid[x][y] != '-1'\n",
    "    \n",
    "    def heuristic(self, x, y):\n",
    "        return max(abs(x - self.target[0]), abs(y - self.target[1]))\n",
    "    \n",
    "    def bfs(self, state, cur_distance):\n",
    "        keys, (x, y) = state\n",
    "        queue = deque([(x, y)])\n",
    "        explored = [[False] * self.m for _ in range(self.n)]\n",
    "        explored[x][y] = True\n",
    "        distance = [[float('inf')] * self.m for _ in range(self.n)]\n",
    "        distance[x][y] = 0\n",
    "        while queue:\n",
    "            x, y = queue.popleft()\n",
    "\n",
    "            for dx, dy in self.directions:\n",
    "                nx, ny = x + dx, y + dy\n",
    "\n",
    "                if self.is_valid(nx, ny) and not explored[nx][ny]:\n",
    "                    queue.append((nx, ny))\n",
    "                    explored[nx][ny] = True\n",
    "                    distance[nx][ny] = distance[x][y] + 1\n",
    "                    \n",
    "            for dx, dy in self.diagonals:\n",
    "                nx, ny = x + dx, y + dy\n",
    "\n",
    "                if self.is_valid(nx, ny) and not explored[nx][ny] and self.is_valid(x + dx, y) and self.is_valid(x, y + dy):\n",
    "                    queue.append((nx, ny))\n",
    "                    explored[nx][ny] = True\n",
    "                    distance[nx][ny] = distance[x][y] + 1\n",
    "\n",
    "    \n",
    "    def process(self):\n",
    "        queue = PriorityQueue()\n",
    "        queue.put((0, ((), self.start)))\n",
    "        while not queue.empty():\n",
    "            cost, state = queue.get()\n",
    "            true_cost = self.distance[state]\n",
    "            keys, (x, y) = state\n",
    "            next_states = bfs(state, cost, true_cost)\n",
    "            for next_state in next_states:\n",
    "                queue.put(next_state)"
   ]
  },
  {
   "cell_type": "code",
   "execution_count": 250,
   "metadata": {},
   "outputs": [
    {
     "name": "stdout",
     "output_type": "stream",
     "text": [
      "[2, 3, 4, 5, 10]\n"
     ]
    }
   ],
   "source": []
  },
  {
   "cell_type": "code",
   "execution_count": null,
   "metadata": {},
   "outputs": [],
   "source": []
  }
 ],
 "metadata": {
  "kernelspec": {
   "display_name": "Python 3",
   "language": "python",
   "name": "python3"
  },
  "language_info": {
   "codemirror_mode": {
    "name": "ipython",
    "version": 3
   },
   "file_extension": ".py",
   "mimetype": "text/x-python",
   "name": "python",
   "nbconvert_exporter": "python",
   "pygments_lexer": "ipython3",
   "version": "3.11.0"
  }
 },
 "nbformat": 4,
 "nbformat_minor": 2
}
